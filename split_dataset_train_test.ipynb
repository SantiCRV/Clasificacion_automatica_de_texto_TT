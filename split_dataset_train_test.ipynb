{
  "nbformat": 4,
  "nbformat_minor": 0,
  "metadata": {
    "colab": {
      "name": "split_dataset_train_test.ipynb",
      "provenance": [],
      "collapsed_sections": [],
      "authorship_tag": "ABX9TyP/qq2J2sgvjl6+7PYhTeNc",
      "include_colab_link": true
    },
    "kernelspec": {
      "name": "python3",
      "display_name": "Python 3"
    },
    "language_info": {
      "name": "python"
    }
  },
  "cells": [
    {
      "cell_type": "markdown",
      "metadata": {
        "id": "view-in-github",
        "colab_type": "text"
      },
      "source": [
        "<a href=\"https://colab.research.google.com/github/SantiCRV/Clasificacion_automatica_de_texto_TT/blob/main/split_dataset_train_test.ipynb\" target=\"_parent\"><img src=\"https://colab.research.google.com/assets/colab-badge.svg\" alt=\"Open In Colab\"/></a>"
      ]
    },
    {
      "cell_type": "code",
      "execution_count": null,
      "metadata": {
        "id": "DqqH02VT00aQ"
      },
      "outputs": [],
      "source": [
        "import pandas as pd\n",
        "import numpy as np\n",
        "import seaborn as sns\n",
        "from matplotlib import pyplot as plt\n",
        "from sklearn.model_selection import train_test_split\n",
        "from google.colab import drive"
      ]
    },
    {
      "cell_type": "code",
      "source": [
        "## Cargamos el Dataset\n",
        "DATASET_PATH = '/content/drive/MyDrive/Datasets TT/dataset_tt_eval_tesauro.csv'\n",
        "drive.mount('/content/drive')\n",
        "df_dataset = pd.read_csv(DATASET_PATH)\n",
        "df_dataset.head()"
      ],
      "metadata": {
        "colab": {
          "base_uri": "https://localhost:8080/",
          "height": 244
        },
        "id": "rrH7IcTD3ZfJ",
        "outputId": "57af9612-81f7-4bd8-ca31-2ddd587a7892"
      },
      "execution_count": null,
      "outputs": [
        {
          "output_type": "stream",
          "name": "stdout",
          "text": [
            "Drive already mounted at /content/drive; to attempt to forcibly remount, call drive.mount(\"/content/drive\", force_remount=True).\n"
          ]
        },
        {
          "output_type": "execute_result",
          "data": {
            "text/plain": [
              "                                                tema     linea_investigacion  \\\n",
              "0  Implementación de un ambiente de simulación ba...    computación aplicada   \n",
              "1  Diseño e implementación de una honeynet para l...    computación aplicada   \n",
              "2  Diseño y creación del módulo de procesamiento ...    computación aplicada   \n",
              "3  Estándar de usabilidad para la interfaz gráfic...  ingeniería de software   \n",
              "4  Sistema help desk para el departamento de mant...  ingeniería de software   \n",
              "\n",
              "    año  \n",
              "0  2017  \n",
              "1  2015  \n",
              "2  2014  \n",
              "3  2014  \n",
              "4  2016  "
            ],
            "text/html": [
              "\n",
              "  <div id=\"df-c3801d80-2618-4f1b-93b0-9acc3ef1d0e5\">\n",
              "    <div class=\"colab-df-container\">\n",
              "      <div>\n",
              "<style scoped>\n",
              "    .dataframe tbody tr th:only-of-type {\n",
              "        vertical-align: middle;\n",
              "    }\n",
              "\n",
              "    .dataframe tbody tr th {\n",
              "        vertical-align: top;\n",
              "    }\n",
              "\n",
              "    .dataframe thead th {\n",
              "        text-align: right;\n",
              "    }\n",
              "</style>\n",
              "<table border=\"1\" class=\"dataframe\">\n",
              "  <thead>\n",
              "    <tr style=\"text-align: right;\">\n",
              "      <th></th>\n",
              "      <th>tema</th>\n",
              "      <th>linea_investigacion</th>\n",
              "      <th>año</th>\n",
              "    </tr>\n",
              "  </thead>\n",
              "  <tbody>\n",
              "    <tr>\n",
              "      <th>0</th>\n",
              "      <td>Implementación de un ambiente de simulación ba...</td>\n",
              "      <td>computación aplicada</td>\n",
              "      <td>2017</td>\n",
              "    </tr>\n",
              "    <tr>\n",
              "      <th>1</th>\n",
              "      <td>Diseño e implementación de una honeynet para l...</td>\n",
              "      <td>computación aplicada</td>\n",
              "      <td>2015</td>\n",
              "    </tr>\n",
              "    <tr>\n",
              "      <th>2</th>\n",
              "      <td>Diseño y creación del módulo de procesamiento ...</td>\n",
              "      <td>computación aplicada</td>\n",
              "      <td>2014</td>\n",
              "    </tr>\n",
              "    <tr>\n",
              "      <th>3</th>\n",
              "      <td>Estándar de usabilidad para la interfaz gráfic...</td>\n",
              "      <td>ingeniería de software</td>\n",
              "      <td>2014</td>\n",
              "    </tr>\n",
              "    <tr>\n",
              "      <th>4</th>\n",
              "      <td>Sistema help desk para el departamento de mant...</td>\n",
              "      <td>ingeniería de software</td>\n",
              "      <td>2016</td>\n",
              "    </tr>\n",
              "  </tbody>\n",
              "</table>\n",
              "</div>\n",
              "      <button class=\"colab-df-convert\" onclick=\"convertToInteractive('df-c3801d80-2618-4f1b-93b0-9acc3ef1d0e5')\"\n",
              "              title=\"Convert this dataframe to an interactive table.\"\n",
              "              style=\"display:none;\">\n",
              "        \n",
              "  <svg xmlns=\"http://www.w3.org/2000/svg\" height=\"24px\"viewBox=\"0 0 24 24\"\n",
              "       width=\"24px\">\n",
              "    <path d=\"M0 0h24v24H0V0z\" fill=\"none\"/>\n",
              "    <path d=\"M18.56 5.44l.94 2.06.94-2.06 2.06-.94-2.06-.94-.94-2.06-.94 2.06-2.06.94zm-11 1L8.5 8.5l.94-2.06 2.06-.94-2.06-.94L8.5 2.5l-.94 2.06-2.06.94zm10 10l.94 2.06.94-2.06 2.06-.94-2.06-.94-.94-2.06-.94 2.06-2.06.94z\"/><path d=\"M17.41 7.96l-1.37-1.37c-.4-.4-.92-.59-1.43-.59-.52 0-1.04.2-1.43.59L10.3 9.45l-7.72 7.72c-.78.78-.78 2.05 0 2.83L4 21.41c.39.39.9.59 1.41.59.51 0 1.02-.2 1.41-.59l7.78-7.78 2.81-2.81c.8-.78.8-2.07 0-2.86zM5.41 20L4 18.59l7.72-7.72 1.47 1.35L5.41 20z\"/>\n",
              "  </svg>\n",
              "      </button>\n",
              "      \n",
              "  <style>\n",
              "    .colab-df-container {\n",
              "      display:flex;\n",
              "      flex-wrap:wrap;\n",
              "      gap: 12px;\n",
              "    }\n",
              "\n",
              "    .colab-df-convert {\n",
              "      background-color: #E8F0FE;\n",
              "      border: none;\n",
              "      border-radius: 50%;\n",
              "      cursor: pointer;\n",
              "      display: none;\n",
              "      fill: #1967D2;\n",
              "      height: 32px;\n",
              "      padding: 0 0 0 0;\n",
              "      width: 32px;\n",
              "    }\n",
              "\n",
              "    .colab-df-convert:hover {\n",
              "      background-color: #E2EBFA;\n",
              "      box-shadow: 0px 1px 2px rgba(60, 64, 67, 0.3), 0px 1px 3px 1px rgba(60, 64, 67, 0.15);\n",
              "      fill: #174EA6;\n",
              "    }\n",
              "\n",
              "    [theme=dark] .colab-df-convert {\n",
              "      background-color: #3B4455;\n",
              "      fill: #D2E3FC;\n",
              "    }\n",
              "\n",
              "    [theme=dark] .colab-df-convert:hover {\n",
              "      background-color: #434B5C;\n",
              "      box-shadow: 0px 1px 3px 1px rgba(0, 0, 0, 0.15);\n",
              "      filter: drop-shadow(0px 1px 2px rgba(0, 0, 0, 0.3));\n",
              "      fill: #FFFFFF;\n",
              "    }\n",
              "  </style>\n",
              "\n",
              "      <script>\n",
              "        const buttonEl =\n",
              "          document.querySelector('#df-c3801d80-2618-4f1b-93b0-9acc3ef1d0e5 button.colab-df-convert');\n",
              "        buttonEl.style.display =\n",
              "          google.colab.kernel.accessAllowed ? 'block' : 'none';\n",
              "\n",
              "        async function convertToInteractive(key) {\n",
              "          const element = document.querySelector('#df-c3801d80-2618-4f1b-93b0-9acc3ef1d0e5');\n",
              "          const dataTable =\n",
              "            await google.colab.kernel.invokeFunction('convertToInteractive',\n",
              "                                                     [key], {});\n",
              "          if (!dataTable) return;\n",
              "\n",
              "          const docLinkHtml = 'Like what you see? Visit the ' +\n",
              "            '<a target=\"_blank\" href=https://colab.research.google.com/notebooks/data_table.ipynb>data table notebook</a>'\n",
              "            + ' to learn more about interactive tables.';\n",
              "          element.innerHTML = '';\n",
              "          dataTable['output_type'] = 'display_data';\n",
              "          await google.colab.output.renderOutput(dataTable, element);\n",
              "          const docLink = document.createElement('div');\n",
              "          docLink.innerHTML = docLinkHtml;\n",
              "          element.appendChild(docLink);\n",
              "        }\n",
              "      </script>\n",
              "    </div>\n",
              "  </div>\n",
              "  "
            ]
          },
          "metadata": {},
          "execution_count": 3
        }
      ]
    },
    {
      "cell_type": "code",
      "source": [
        "count_clases = df_dataset['año'].value_counts()\n",
        "count_clases"
      ],
      "metadata": {
        "id": "GXEv1axuNA51"
      },
      "execution_count": null,
      "outputs": []
    },
    {
      "cell_type": "code",
      "source": [
        "sns.countplot(df_dataset['año'])"
      ],
      "metadata": {
        "colab": {
          "base_uri": "https://localhost:8080/",
          "height": 353
        },
        "id": "wHtGnBDANPdx",
        "outputId": "9c1a3ecf-8c45-4da3-a21d-488df43d73e1"
      },
      "execution_count": null,
      "outputs": [
        {
          "output_type": "stream",
          "name": "stderr",
          "text": [
            "/usr/local/lib/python3.7/dist-packages/seaborn/_decorators.py:43: FutureWarning: Pass the following variable as a keyword arg: x. From version 0.12, the only valid positional argument will be `data`, and passing other arguments without an explicit keyword will result in an error or misinterpretation.\n",
            "  FutureWarning\n"
          ]
        },
        {
          "output_type": "execute_result",
          "data": {
            "text/plain": [
              "<matplotlib.axes._subplots.AxesSubplot at 0x7f8a2cc02f90>"
            ]
          },
          "metadata": {},
          "execution_count": 6
        },
        {
          "output_type": "display_data",
          "data": {
            "text/plain": [
              "<Figure size 432x288 with 1 Axes>"
            ],
            "image/png": "[encoded data removed]"
          },
          "metadata": {
            "needs_background": "light"
          }
        }
      ]
    },
    {
      "cell_type": "code",
      "source": [
        "## Seleccionamos las columnas que nos interesan del dataset\n",
        "columns = ['tema','linea_investigacion']\n",
        "df_dataset_split = df_dataset.loc[:, columns]\n",
        "df_dataset_split.head()"
      ],
      "metadata": {
        "colab": {
          "base_uri": "https://localhost:8080/",
          "height": 206
        },
        "id": "K-zxq8htE9tC",
        "outputId": "d708bfac-5198-46c2-88bd-7bc1aae26be1"
      },
      "execution_count": null,
      "outputs": [
        {
          "output_type": "execute_result",
          "data": {
            "text/plain": [
              "                                                tema     linea_investigacion\n",
              "0  Implementación de un ambiente de simulación ba...    computación aplicada\n",
              "1  Diseño e implementación de una honeynet para l...    computación aplicada\n",
              "2  Diseño y creación del módulo de procesamiento ...    computación aplicada\n",
              "3  Estándar de usabilidad para la interfaz gráfic...  ingeniería de software\n",
              "4  Sistema help desk para el departamento de mant...  ingeniería de software"
            ],
            "text/html": [
              "\n",
              "  <div id=\"df-627088d4-b3bd-49b9-9a92-d3fcf46935fc\">\n",
              "    <div class=\"colab-df-container\">\n",
              "      <div>\n",
              "<style scoped>\n",
              "    .dataframe tbody tr th:only-of-type {\n",
              "        vertical-align: middle;\n",
              "    }\n",
              "\n",
              "    .dataframe tbody tr th {\n",
              "        vertical-align: top;\n",
              "    }\n",
              "\n",
              "    .dataframe thead th {\n",
              "        text-align: right;\n",
              "    }\n",
              "</style>\n",
              "<table border=\"1\" class=\"dataframe\">\n",
              "  <thead>\n",
              "    <tr style=\"text-align: right;\">\n",
              "      <th></th>\n",
              "      <th>tema</th>\n",
              "      <th>linea_investigacion</th>\n",
              "    </tr>\n",
              "  </thead>\n",
              "  <tbody>\n",
              "    <tr>\n",
              "      <th>0</th>\n",
              "      <td>Implementación de un ambiente de simulación ba...</td>\n",
              "      <td>computación aplicada</td>\n",
              "    </tr>\n",
              "    <tr>\n",
              "      <th>1</th>\n",
              "      <td>Diseño e implementación de una honeynet para l...</td>\n",
              "      <td>computación aplicada</td>\n",
              "    </tr>\n",
              "    <tr>\n",
              "      <th>2</th>\n",
              "      <td>Diseño y creación del módulo de procesamiento ...</td>\n",
              "      <td>computación aplicada</td>\n",
              "    </tr>\n",
              "    <tr>\n",
              "      <th>3</th>\n",
              "      <td>Estándar de usabilidad para la interfaz gráfic...</td>\n",
              "      <td>ingeniería de software</td>\n",
              "    </tr>\n",
              "    <tr>\n",
              "      <th>4</th>\n",
              "      <td>Sistema help desk para el departamento de mant...</td>\n",
              "      <td>ingeniería de software</td>\n",
              "    </tr>\n",
              "  </tbody>\n",
              "</table>\n",
              "</div>\n",
              "      <button class=\"colab-df-convert\" onclick=\"convertToInteractive('df-627088d4-b3bd-49b9-9a92-d3fcf46935fc')\"\n",
              "              title=\"Convert this dataframe to an interactive table.\"\n",
              "              style=\"display:none;\">\n",
              "        \n",
              "  <svg xmlns=\"http://www.w3.org/2000/svg\" height=\"24px\"viewBox=\"0 0 24 24\"\n",
              "       width=\"24px\">\n",
              "    <path d=\"M0 0h24v24H0V0z\" fill=\"none\"/>\n",
              "    <path d=\"M18.56 5.44l.94 2.06.94-2.06 2.06-.94-2.06-.94-.94-2.06-.94 2.06-2.06.94zm-11 1L8.5 8.5l.94-2.06 2.06-.94-2.06-.94L8.5 2.5l-.94 2.06-2.06.94zm10 10l.94 2.06.94-2.06 2.06-.94-2.06-.94-.94-2.06-.94 2.06-2.06.94z\"/><path d=\"M17.41 7.96l-1.37-1.37c-.4-.4-.92-.59-1.43-.59-.52 0-1.04.2-1.43.59L10.3 9.45l-7.72 7.72c-.78.78-.78 2.05 0 2.83L4 21.41c.39.39.9.59 1.41.59.51 0 1.02-.2 1.41-.59l7.78-7.78 2.81-2.81c.8-.78.8-2.07 0-2.86zM5.41 20L4 18.59l7.72-7.72 1.47 1.35L5.41 20z\"/>\n",
              "  </svg>\n",
              "      </button>\n",
              "      \n",
              "  <style>\n",
              "    .colab-df-container {\n",
              "      display:flex;\n",
              "      flex-wrap:wrap;\n",
              "      gap: 12px;\n",
              "    }\n",
              "\n",
              "    .colab-df-convert {\n",
              "      background-color: #E8F0FE;\n",
              "      border: none;\n",
              "      border-radius: 50%;\n",
              "      cursor: pointer;\n",
              "      display: none;\n",
              "      fill: #1967D2;\n",
              "      height: 32px;\n",
              "      padding: 0 0 0 0;\n",
              "      width: 32px;\n",
              "    }\n",
              "\n",
              "    .colab-df-convert:hover {\n",
              "      background-color: #E2EBFA;\n",
              "      box-shadow: 0px 1px 2px rgba(60, 64, 67, 0.3), 0px 1px 3px 1px rgba(60, 64, 67, 0.15);\n",
              "      fill: #174EA6;\n",
              "    }\n",
              "\n",
              "    [theme=dark] .colab-df-convert {\n",
              "      background-color: #3B4455;\n",
              "      fill: #D2E3FC;\n",
              "    }\n",
              "\n",
              "    [theme=dark] .colab-df-convert:hover {\n",
              "      background-color: #434B5C;\n",
              "      box-shadow: 0px 1px 3px 1px rgba(0, 0, 0, 0.15);\n",
              "      filter: drop-shadow(0px 1px 2px rgba(0, 0, 0, 0.3));\n",
              "      fill: #FFFFFF;\n",
              "    }\n",
              "  </style>\n",
              "\n",
              "      <script>\n",
              "        const buttonEl =\n",
              "          document.querySelector('#df-627088d4-b3bd-49b9-9a92-d3fcf46935fc button.colab-df-convert');\n",
              "        buttonEl.style.display =\n",
              "          google.colab.kernel.accessAllowed ? 'block' : 'none';\n",
              "\n",
              "        async function convertToInteractive(key) {\n",
              "          const element = document.querySelector('#df-627088d4-b3bd-49b9-9a92-d3fcf46935fc');\n",
              "          const dataTable =\n",
              "            await google.colab.kernel.invokeFunction('convertToInteractive',\n",
              "                                                     [key], {});\n",
              "          if (!dataTable) return;\n",
              "\n",
              "          const docLinkHtml = 'Like what you see? Visit the ' +\n",
              "            '<a target=\"_blank\" href=https://colab.research.google.com/notebooks/data_table.ipynb>data table notebook</a>'\n",
              "            + ' to learn more about interactive tables.';\n",
              "          element.innerHTML = '';\n",
              "          dataTable['output_type'] = 'display_data';\n",
              "          await google.colab.output.renderOutput(dataTable, element);\n",
              "          const docLink = document.createElement('div');\n",
              "          docLink.innerHTML = docLinkHtml;\n",
              "          element.appendChild(docLink);\n",
              "        }\n",
              "      </script>\n",
              "    </div>\n",
              "  </div>\n",
              "  "
            ]
          },
          "metadata": {},
          "execution_count": 43
        }
      ]
    },
    {
      "cell_type": "code",
      "source": [
        "def graficar_linea_investigacion(y_, titulo):   \n",
        "    count_clases = pd.value_counts(y_)  \n",
        "    print (count_clases)\n",
        "    ## Obtenemos los porcentajes correspondientes para cada clase\n",
        "    percent0 = round(float((count_clases[0] / y_.shape)*100), 2)\n",
        "    percent1 = round(float((count_clases[1] / y_.shape)*100), 2)\n",
        "    percent2 = round(float((count_clases[2] / y_.shape)*100), 2)\n",
        "    ## Asignamos los colores para cada clase en el digrama de barras\n",
        "    color_red = \"#FF0000\"\n",
        "    color_green = \"#008000\"\n",
        "    color_blue = \"#0000FF\"\n",
        "    colores=(color_red, color_green, color_blue, color_red, color_green, \n",
        "             color_blue, color_red, color_green, color_blue, color_red, \n",
        "             color_green, color_blue, color_red)\n",
        "    plt.figure()\n",
        "    clases_x= [0,1,2]\n",
        "    labels_x = (\"Ingeniería S.\", \"Computación A.\", \"Sistemas I.\")\n",
        "    valores_y = (count_clases[0], count_clases[1],count_clases[2])\n",
        "    barras = plt.bar(clases_x, valores_y, align='center', color=colores, edgecolor='none')\n",
        "    ax = plt.axes()\n",
        "    ax.set_xticks(clases_x)  ## posiciones en eje X\n",
        "    ax.set_xticklabels(labels_x)  ## etiquetas en eje X\n",
        "    plt.xlabel('\\nLíneas de Investigación')\n",
        "    plt.ylabel('Temas')\n",
        "    \n",
        "    for i, n in enumerate(valores_y):   ## imprime numero de TT encima de cada barra, de acuerdo a su clase\n",
        "        ax.text(i, n + 10, n, ha='center', va='bottom')\n",
        "    plt.title(titulo)     \n",
        "    handles = barras[:3]\n",
        "    plt.legend(handles, [\"0: \"+labels_x[0]+\"  \"+str(percent0)+\"%\", \n",
        "                         \"1: \"+labels_x[1]+\"  \"+str(percent1)+\"%\",\n",
        "                         \"2: \"+labels_x[2]+\"  \"+str(percent2)+\"%\"])  ## imprime leyenda en gráfico\n",
        "    plt.show()"
      ],
      "metadata": {
        "id": "7PVYn2rJ0yj3"
      },
      "execution_count": null,
      "outputs": []
    },
    {
      "cell_type": "code",
      "source": [
        "y = df_dataset.linea_investigacion\n",
        "graficar_linea_investigacion(y, \"Clasificación del dataset con el número de clases actuales\")"
      ],
      "metadata": {
        "colab": {
          "base_uri": "https://localhost:8080/",
          "height": 417
        },
        "id": "Oy9KLGBE2FNm",
        "outputId": "ff64d21f-b438-42c4-a843-eee85988e9a6"
      },
      "execution_count": null,
      "outputs": [
        {
          "output_type": "stream",
          "name": "stdout",
          "text": [
            "ingeniería de software    183\n",
            "computación aplicada      102\n",
            "sistemas inteligentes      72\n",
            "Name: linea_investigacion, dtype: int64\n"
          ]
        },
        {
          "output_type": "stream",
          "name": "stderr",
          "text": [
            "/usr/local/lib/python3.7/dist-packages/ipykernel_launcher.py:20: MatplotlibDeprecationWarning: Adding an axes using the same arguments as a previous axes currently reuses the earlier instance.  In a future version, a new instance will always be created and returned.  Meanwhile, this warning can be suppressed, and the future behavior ensured, by passing a unique label to each axes instance.\n"
          ]
        },
        {
          "output_type": "display_data",
          "data": {
            "text/plain": [
              "<Figure size 432x288 with 1 Axes>"
            ],
            "image/png": "[encoded data removed]"
          },
          "metadata": {
            "needs_background": "light"
          }
        }
      ]
    },
    {
      "cell_type": "markdown",
      "source": [
        "## División del conjunto de datos entrenamiento, validación y prueba"
      ],
      "metadata": {
        "id": "d3s5abMvIwIJ"
      }
    },
    {
      "cell_type": "code",
      "source": [
        "## Creamos una función que nos permita dividir primeramente el dataset de entrenamiento y dataset de validación\n",
        "## Para este caso en particular se establece la división el la porción 80:20\n",
        "def split_dataset_training_test(X_, y_):\n",
        "  test_size = 0.20\n",
        "  ramdon_seed = 42\n",
        "  X_train, X_test, y_train, y_test = train_test_split(X_, y_, test_size=test_size, random_state=ramdon_seed)\n",
        "  return X_train, X_test, y_train, y_test"
      ],
      "metadata": {
        "id": "b-YiBLFi8DtN"
      },
      "execution_count": null,
      "outputs": []
    },
    {
      "cell_type": "code",
      "source": [
        "## Creamos una nueva función para dividir el dataset de validación\n",
        "def split_dataset_validation_test(X_, y_):\n",
        "  test_size = 0.50\n",
        "  ramdon_seed = 42\n",
        "  X_val, X_test, y_val, y_test = train_test_split(X_, y_, test_size=test_size, random_state=ramdon_seed)\n",
        "  return X_val, X_test, y_val, y_test"
      ],
      "metadata": {
        "id": "aQ8OIcgcJy4R"
      },
      "execution_count": null,
      "outputs": []
    },
    {
      "cell_type": "code",
      "source": [
        "## Creamos la variable X, Y que son los parámetros necesarios para el método \n",
        "X = df_dataset_split.tema\n",
        "Y = df_dataset_split.linea_investigacion\n",
        "\n",
        "split_dataset_training_test(X, Y)\n",
        "\n",
        "X_train, X_test, y_train, y_test = split_dataset_training_test(X, Y)"
      ],
      "metadata": {
        "id": "TUKxs31sfnfK"
      },
      "execution_count": null,
      "outputs": []
    },
    {
      "cell_type": "code",
      "source": [
        "## Creación del dataset de entrenamiento equivalente al 80% del conjunto de datos original\n",
        "df_X_train = pd.DataFrame(X_train)\n",
        "df_y_train = pd.DataFrame(y_train)\n",
        "df_train = pd.concat([df_X_train, df_y_train], axis=1)\n",
        "df_train.to_csv(\"/content/tesis_unl_training_tt.csv\", index=False)"
      ],
      "metadata": {
        "id": "KOy136LYhB80"
      },
      "execution_count": null,
      "outputs": []
    },
    {
      "cell_type": "code",
      "source": [
        "## Creación del dataset de validación equivalente al 20% del conjunto de datos original\n",
        "df_X_test = pd.DataFrame(X_test)\n",
        "df_y_test = pd.DataFrame(y_test)\n",
        "df_test = pd.concat([df_X_test, df_y_test], axis=1)\n",
        "df_test.to_csv(\"/content/tesis_unl_validation.csv\", index=False)"
      ],
      "metadata": {
        "id": "19_w6uaawUiV"
      },
      "execution_count": null,
      "outputs": []
    },
    {
      "cell_type": "code",
      "source": [
        "## Cargamos el conjunto de datos de validación\n",
        "DATASET_PATH_VAL = '/content/drive/MyDrive/dataset final etiquetado/tesis_unl_validation.csv'\n",
        "df_dataset_val = pd.read_csv(DATASET_PATH_VAL)\n",
        "df_dataset_val.head()"
      ],
      "metadata": {
        "colab": {
          "base_uri": "https://localhost:8080/",
          "height": 206
        },
        "id": "jr95qw6rEjjG",
        "outputId": "7d2d4c21-54fc-4f43-e897-e3584674b11b"
      },
      "execution_count": null,
      "outputs": [
        {
          "output_type": "execute_result",
          "data": {
            "text/plain": [
              "                                                tema     linea_investigacion\n",
              "0  Software inteligente para el procesamiento mus...   sistemas inteligentes\n",
              "1  Construcción de un sistema inteligente para la...  ingeniería de software\n",
              "2  Diseño y montaje de un prototipo para el contr...    computación aplicada\n",
              "3  Sistema de gestión administrativo para el depa...  ingeniería de software\n",
              "4  Desarrollo e implantación de un sistema de tel...  ingeniería de software"
            ],
            "text/html": [
              "\n",
              "  <div id=\"df-5b897481-6745-4260-a598-ed0ed09ecb78\">\n",
              "    <div class=\"colab-df-container\">\n",
              "      <div>\n",
              "<style scoped>\n",
              "    .dataframe tbody tr th:only-of-type {\n",
              "        vertical-align: middle;\n",
              "    }\n",
              "\n",
              "    .dataframe tbody tr th {\n",
              "        vertical-align: top;\n",
              "    }\n",
              "\n",
              "    .dataframe thead th {\n",
              "        text-align: right;\n",
              "    }\n",
              "</style>\n",
              "<table border=\"1\" class=\"dataframe\">\n",
              "  <thead>\n",
              "    <tr style=\"text-align: right;\">\n",
              "      <th></th>\n",
              "      <th>tema</th>\n",
              "      <th>linea_investigacion</th>\n",
              "    </tr>\n",
              "  </thead>\n",
              "  <tbody>\n",
              "    <tr>\n",
              "      <th>0</th>\n",
              "      <td>Software inteligente para el procesamiento mus...</td>\n",
              "      <td>sistemas inteligentes</td>\n",
              "    </tr>\n",
              "    <tr>\n",
              "      <th>1</th>\n",
              "      <td>Construcción de un sistema inteligente para la...</td>\n",
              "      <td>ingeniería de software</td>\n",
              "    </tr>\n",
              "    <tr>\n",
              "      <th>2</th>\n",
              "      <td>Diseño y montaje de un prototipo para el contr...</td>\n",
              "      <td>computación aplicada</td>\n",
              "    </tr>\n",
              "    <tr>\n",
              "      <th>3</th>\n",
              "      <td>Sistema de gestión administrativo para el depa...</td>\n",
              "      <td>ingeniería de software</td>\n",
              "    </tr>\n",
              "    <tr>\n",
              "      <th>4</th>\n",
              "      <td>Desarrollo e implantación de un sistema de tel...</td>\n",
              "      <td>ingeniería de software</td>\n",
              "    </tr>\n",
              "  </tbody>\n",
              "</table>\n",
              "</div>\n",
              "      <button class=\"colab-df-convert\" onclick=\"convertToInteractive('df-5b897481-6745-4260-a598-ed0ed09ecb78')\"\n",
              "              title=\"Convert this dataframe to an interactive table.\"\n",
              "              style=\"display:none;\">\n",
              "        \n",
              "  <svg xmlns=\"http://www.w3.org/2000/svg\" height=\"24px\"viewBox=\"0 0 24 24\"\n",
              "       width=\"24px\">\n",
              "    <path d=\"M0 0h24v24H0V0z\" fill=\"none\"/>\n",
              "    <path d=\"M18.56 5.44l.94 2.06.94-2.06 2.06-.94-2.06-.94-.94-2.06-.94 2.06-2.06.94zm-11 1L8.5 8.5l.94-2.06 2.06-.94-2.06-.94L8.5 2.5l-.94 2.06-2.06.94zm10 10l.94 2.06.94-2.06 2.06-.94-2.06-.94-.94-2.06-.94 2.06-2.06.94z\"/><path d=\"M17.41 7.96l-1.37-1.37c-.4-.4-.92-.59-1.43-.59-.52 0-1.04.2-1.43.59L10.3 9.45l-7.72 7.72c-.78.78-.78 2.05 0 2.83L4 21.41c.39.39.9.59 1.41.59.51 0 1.02-.2 1.41-.59l7.78-7.78 2.81-2.81c.8-.78.8-2.07 0-2.86zM5.41 20L4 18.59l7.72-7.72 1.47 1.35L5.41 20z\"/>\n",
              "  </svg>\n",
              "      </button>\n",
              "      \n",
              "  <style>\n",
              "    .colab-df-container {\n",
              "      display:flex;\n",
              "      flex-wrap:wrap;\n",
              "      gap: 12px;\n",
              "    }\n",
              "\n",
              "    .colab-df-convert {\n",
              "      background-color: #E8F0FE;\n",
              "      border: none;\n",
              "      border-radius: 50%;\n",
              "      cursor: pointer;\n",
              "      display: none;\n",
              "      fill: #1967D2;\n",
              "      height: 32px;\n",
              "      padding: 0 0 0 0;\n",
              "      width: 32px;\n",
              "    }\n",
              "\n",
              "    .colab-df-convert:hover {\n",
              "      background-color: #E2EBFA;\n",
              "      box-shadow: 0px 1px 2px rgba(60, 64, 67, 0.3), 0px 1px 3px 1px rgba(60, 64, 67, 0.15);\n",
              "      fill: #174EA6;\n",
              "    }\n",
              "\n",
              "    [theme=dark] .colab-df-convert {\n",
              "      background-color: #3B4455;\n",
              "      fill: #D2E3FC;\n",
              "    }\n",
              "\n",
              "    [theme=dark] .colab-df-convert:hover {\n",
              "      background-color: #434B5C;\n",
              "      box-shadow: 0px 1px 3px 1px rgba(0, 0, 0, 0.15);\n",
              "      filter: drop-shadow(0px 1px 2px rgba(0, 0, 0, 0.3));\n",
              "      fill: #FFFFFF;\n",
              "    }\n",
              "  </style>\n",
              "\n",
              "      <script>\n",
              "        const buttonEl =\n",
              "          document.querySelector('#df-5b897481-6745-4260-a598-ed0ed09ecb78 button.colab-df-convert');\n",
              "        buttonEl.style.display =\n",
              "          google.colab.kernel.accessAllowed ? 'block' : 'none';\n",
              "\n",
              "        async function convertToInteractive(key) {\n",
              "          const element = document.querySelector('#df-5b897481-6745-4260-a598-ed0ed09ecb78');\n",
              "          const dataTable =\n",
              "            await google.colab.kernel.invokeFunction('convertToInteractive',\n",
              "                                                     [key], {});\n",
              "          if (!dataTable) return;\n",
              "\n",
              "          const docLinkHtml = 'Like what you see? Visit the ' +\n",
              "            '<a target=\"_blank\" href=https://colab.research.google.com/notebooks/data_table.ipynb>data table notebook</a>'\n",
              "            + ' to learn more about interactive tables.';\n",
              "          element.innerHTML = '';\n",
              "          dataTable['output_type'] = 'display_data';\n",
              "          await google.colab.output.renderOutput(dataTable, element);\n",
              "          const docLink = document.createElement('div');\n",
              "          docLink.innerHTML = docLinkHtml;\n",
              "          element.appendChild(docLink);\n",
              "        }\n",
              "      </script>\n",
              "    </div>\n",
              "  </div>\n",
              "  "
            ]
          },
          "metadata": {},
          "execution_count": 53
        }
      ]
    },
    {
      "cell_type": "code",
      "source": [
        "df_dataset_val.shape"
      ],
      "metadata": {
        "colab": {
          "base_uri": "https://localhost:8080/"
        },
        "id": "QI1q1RHiRD5t",
        "outputId": "33a4dd41-0f95-4a9c-9a2d-b593089c6b1d"
      },
      "execution_count": null,
      "outputs": [
        {
          "output_type": "execute_result",
          "data": {
            "text/plain": [
              "(72, 2)"
            ]
          },
          "metadata": {},
          "execution_count": 54
        }
      ]
    },
    {
      "cell_type": "code",
      "source": [
        "df_dataset_val['linea_investigacion'].value_counts()"
      ],
      "metadata": {
        "colab": {
          "base_uri": "https://localhost:8080/"
        },
        "id": "Ki2rI4xYRJ13",
        "outputId": "5696682f-3109-4929-dcc7-6a8b544a5871"
      },
      "execution_count": null,
      "outputs": [
        {
          "output_type": "execute_result",
          "data": {
            "text/plain": [
              "ingeniería de software    41\n",
              "computación aplicada      19\n",
              "sistemas inteligentes     12\n",
              "Name: linea_investigacion, dtype: int64"
            ]
          },
          "metadata": {},
          "execution_count": 55
        }
      ]
    },
    {
      "cell_type": "code",
      "source": [
        "sns.countplot(df_dataset_val['linea_investigacion'])"
      ],
      "metadata": {
        "colab": {
          "base_uri": "https://localhost:8080/",
          "height": 355
        },
        "id": "YDFn7usqRaL9",
        "outputId": "cfc99ad3-23d5-42a5-92d2-30cafdd786aa"
      },
      "execution_count": null,
      "outputs": [
        {
          "output_type": "stream",
          "name": "stderr",
          "text": [
            "/usr/local/lib/python3.7/dist-packages/seaborn/_decorators.py:43: FutureWarning: Pass the following variable as a keyword arg: x. From version 0.12, the only valid positional argument will be `data`, and passing other arguments without an explicit keyword will result in an error or misinterpretation.\n",
            "  FutureWarning\n"
          ]
        },
        {
          "output_type": "execute_result",
          "data": {
            "text/plain": [
              "<matplotlib.axes._subplots.AxesSubplot at 0x7f8a29a34ad0>"
            ]
          },
          "metadata": {},
          "execution_count": 56
        },
        {
          "output_type": "display_data",
          "data": {
            "text/plain": [
              "<Figure size 432x288 with 1 Axes>"
            ],
            "image/png": "[encoded data removed]"
          },
          "metadata": {
            "needs_background": "light"
          }
        }
      ]
    },
    {
      "cell_type": "code",
      "source": [
        "## Creamos la variable X_val, Y_val que son los parámetros necesarios para el método \n",
        "X_val = df_dataset_val.tema\n",
        "Y_val = df_dataset_val.linea_investigacion\n",
        "\n",
        "split_dataset_validation_test(X_val, Y_val)\n",
        "\n",
        "X_vali, X_test_v, y_vali, y_test_v = split_dataset_validation_test(X_val, Y_val)"
      ],
      "metadata": {
        "id": "wWUJucWmRpIB"
      },
      "execution_count": null,
      "outputs": []
    },
    {
      "cell_type": "code",
      "source": [
        "## Creación del dataset de entrenamiento equivalente al 80% del conjunto de datos original\n",
        "df_X_val = pd.DataFrame(X_vali)\n",
        "df_y_val = pd.DataFrame(y_vali)\n",
        "df_train_val = pd.concat([df_X_val, df_y_val], axis=1)\n",
        "df_train_val.to_csv(\"/content/tesis_unl_validation_tt.csv\", index=False)"
      ],
      "metadata": {
        "id": "BuNgbOe3Snc7"
      },
      "execution_count": null,
      "outputs": []
    },
    {
      "cell_type": "code",
      "source": [
        "## Creación del dataset de validación equivalente al 20% del conjunto de datos original\n",
        "df_X_test_v = pd.DataFrame(X_test_v)\n",
        "df_y_test_v = pd.DataFrame(y_test_v)\n",
        "df_test_val = pd.concat([df_X_test_v, df_y_test_v], axis=1)\n",
        "df_test_val.to_csv(\"/content/tesis_unl_test_tt.csv\", index=False)"
      ],
      "metadata": {
        "id": "V8ds3f-6Sa1x"
      },
      "execution_count": null,
      "outputs": []
    }
  ]
}